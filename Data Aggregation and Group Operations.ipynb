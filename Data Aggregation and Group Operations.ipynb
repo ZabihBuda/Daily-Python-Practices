{
 "cells": [
  {
   "cell_type": "code",
   "execution_count": 1,
   "metadata": {},
   "outputs": [],
   "source": [
    "import pandas as pd\n",
    "import numpy as np\n"
   ]
  },
  {
   "cell_type": "code",
   "execution_count": 4,
   "metadata": {},
   "outputs": [
    {
     "data": {
      "text/html": [
       "<div>\n",
       "<style scoped>\n",
       "    .dataframe tbody tr th:only-of-type {\n",
       "        vertical-align: middle;\n",
       "    }\n",
       "\n",
       "    .dataframe tbody tr th {\n",
       "        vertical-align: top;\n",
       "    }\n",
       "\n",
       "    .dataframe thead th {\n",
       "        text-align: right;\n",
       "    }\n",
       "</style>\n",
       "<table border=\"1\" class=\"dataframe\">\n",
       "  <thead>\n",
       "    <tr style=\"text-align: right;\">\n",
       "      <th></th>\n",
       "      <th>key1</th>\n",
       "      <th>key2</th>\n",
       "      <th>key3</th>\n",
       "      <th>data1</th>\n",
       "      <th>data2</th>\n",
       "      <th>data3</th>\n",
       "    </tr>\n",
       "  </thead>\n",
       "  <tbody>\n",
       "    <tr>\n",
       "      <th>0</th>\n",
       "      <td>a</td>\n",
       "      <td>one</td>\n",
       "      <td>1</td>\n",
       "      <td>-1.730417</td>\n",
       "      <td>0.116359</td>\n",
       "      <td>-0.553355</td>\n",
       "    </tr>\n",
       "    <tr>\n",
       "      <th>1</th>\n",
       "      <td>a</td>\n",
       "      <td>two</td>\n",
       "      <td>2</td>\n",
       "      <td>1.347333</td>\n",
       "      <td>-0.182817</td>\n",
       "      <td>0.057174</td>\n",
       "    </tr>\n",
       "    <tr>\n",
       "      <th>2</th>\n",
       "      <td>b</td>\n",
       "      <td>one</td>\n",
       "      <td>2</td>\n",
       "      <td>0.696980</td>\n",
       "      <td>1.406488</td>\n",
       "      <td>1.425337</td>\n",
       "    </tr>\n",
       "    <tr>\n",
       "      <th>3</th>\n",
       "      <td>b</td>\n",
       "      <td>two</td>\n",
       "      <td>1</td>\n",
       "      <td>-1.218020</td>\n",
       "      <td>-0.003696</td>\n",
       "      <td>2.255758</td>\n",
       "    </tr>\n",
       "    <tr>\n",
       "      <th>4</th>\n",
       "      <td>a</td>\n",
       "      <td>one</td>\n",
       "      <td>2</td>\n",
       "      <td>-0.504637</td>\n",
       "      <td>-0.198924</td>\n",
       "      <td>1.232757</td>\n",
       "    </tr>\n",
       "  </tbody>\n",
       "</table>\n",
       "</div>"
      ],
      "text/plain": [
       "  key1 key2  key3     data1     data2     data3\n",
       "0    a  one     1 -1.730417  0.116359 -0.553355\n",
       "1    a  two     2  1.347333 -0.182817  0.057174\n",
       "2    b  one     2  0.696980  1.406488  1.425337\n",
       "3    b  two     1 -1.218020 -0.003696  2.255758\n",
       "4    a  one     2 -0.504637 -0.198924  1.232757"
      ]
     },
     "execution_count": 4,
     "metadata": {},
     "output_type": "execute_result"
    }
   ],
   "source": [
    "df=pd.DataFrame({'key1' : ['a', 'a', 'b', 'b', 'a'],\n",
    "                 'key2' : ['one', 'two', 'one', 'two', 'one'],\n",
    "                 'key3' : [1, 2, 2, 1, 2],\n",
    "                 'data1': np.random.randn(5),\n",
    "                 'data2': np.random.randn(5),\n",
    "                 'data3': np.random.randn(5)})\n",
    "\n",
    "df"
   ]
  },
  {
   "cell_type": "code",
   "execution_count": 5,
   "metadata": {},
   "outputs": [
    {
     "data": {
      "text/plain": [
       "<pandas.core.groupby.generic.SeriesGroupBy object at 0x7f9932bd0b20>"
      ]
     },
     "execution_count": 5,
     "metadata": {},
     "output_type": "execute_result"
    }
   ],
   "source": [
    "# Let's compute the mean of the data1 column using the labels from key1\n",
    "grouped=df['data1'].groupby(df['key1'])\n",
    "grouped"
   ]
  },
  {
   "cell_type": "code",
   "execution_count": 6,
   "metadata": {},
   "outputs": [
    {
     "data": {
      "text/plain": [
       "key1\n",
       "a   -0.295907\n",
       "b   -0.260520\n",
       "Name: data1, dtype: float64"
      ]
     },
     "execution_count": 6,
     "metadata": {},
     "output_type": "execute_result"
    }
   ],
   "source": [
    "#it is now a groupby object. I thas not computed anything yet. to compute the group means, we can call the groupby's mean method\n",
    "grouped.mean()"
   ]
  },
  {
   "cell_type": "code",
   "execution_count": 9,
   "metadata": {},
   "outputs": [
    {
     "name": "stdout",
     "output_type": "stream",
     "text": [
      "key2\n",
      "one    0.441308\n",
      "two   -0.093257\n",
      "Name: data2, dtype: float64\n",
      "\n",
      "key3\n",
      "1    0.851202\n",
      "2    0.905089\n",
      "Name: data3, dtype: float64\n"
     ]
    }
   ],
   "source": [
    "# Let's compute the means of two other data groups, data 1 and data 2\n",
    "grouped2=df['data2'].groupby(df['key2'])\n",
    "grouped3=df['data3'].groupby(df['key3'])\n",
    "\n",
    "print(grouped2.mean())\n",
    "print()\n",
    "print(grouped3.mean())"
   ]
  },
  {
   "cell_type": "code",
   "execution_count": 10,
   "metadata": {},
   "outputs": [
    {
     "data": {
      "text/plain": [
       "key1  key2\n",
       "a     one    -1.117527\n",
       "      two     1.347333\n",
       "b     one     0.696980\n",
       "      two    -1.218020\n",
       "Name: data1, dtype: float64"
      ]
     },
     "execution_count": 10,
     "metadata": {},
     "output_type": "execute_result"
    }
   ],
   "source": [
    "# we can also get the mean of a data based on different keys\n",
    "means=df['data1'].groupby([df['key1'], df['key2']]).mean()\n",
    "means"
   ]
  },
  {
   "cell_type": "code",
   "execution_count": 11,
   "metadata": {},
   "outputs": [
    {
     "data": {
      "text/plain": [
       "key1  key2  key3\n",
       "a     one   1      -1.730417\n",
       "            2      -0.504637\n",
       "      two   2       1.347333\n",
       "b     one   2       0.696980\n",
       "      two   1      -1.218020\n",
       "Name: data1, dtype: float64"
      ]
     },
     "execution_count": 11,
     "metadata": {},
     "output_type": "execute_result"
    }
   ],
   "source": [
    "#let's compute the means of data 1 based on all three keys\n",
    "means=df['data1'].groupby([df['key1'], df['key2'], df['key3']]).mean()\n",
    "means"
   ]
  },
  {
   "cell_type": "code",
   "execution_count": 12,
   "metadata": {},
   "outputs": [
    {
     "data": {
      "text/html": [
       "<div>\n",
       "<style scoped>\n",
       "    .dataframe tbody tr th:only-of-type {\n",
       "        vertical-align: middle;\n",
       "    }\n",
       "\n",
       "    .dataframe tbody tr th {\n",
       "        vertical-align: top;\n",
       "    }\n",
       "\n",
       "    .dataframe thead th {\n",
       "        text-align: right;\n",
       "    }\n",
       "</style>\n",
       "<table border=\"1\" class=\"dataframe\">\n",
       "  <thead>\n",
       "    <tr style=\"text-align: right;\">\n",
       "      <th></th>\n",
       "      <th>key3</th>\n",
       "      <th>1</th>\n",
       "      <th>2</th>\n",
       "    </tr>\n",
       "    <tr>\n",
       "      <th>key1</th>\n",
       "      <th>key2</th>\n",
       "      <th></th>\n",
       "      <th></th>\n",
       "    </tr>\n",
       "  </thead>\n",
       "  <tbody>\n",
       "    <tr>\n",
       "      <th rowspan=\"2\" valign=\"top\">a</th>\n",
       "      <th>one</th>\n",
       "      <td>-1.730417</td>\n",
       "      <td>-0.504637</td>\n",
       "    </tr>\n",
       "    <tr>\n",
       "      <th>two</th>\n",
       "      <td>NaN</td>\n",
       "      <td>1.347333</td>\n",
       "    </tr>\n",
       "    <tr>\n",
       "      <th rowspan=\"2\" valign=\"top\">b</th>\n",
       "      <th>one</th>\n",
       "      <td>NaN</td>\n",
       "      <td>0.696980</td>\n",
       "    </tr>\n",
       "    <tr>\n",
       "      <th>two</th>\n",
       "      <td>-1.218020</td>\n",
       "      <td>NaN</td>\n",
       "    </tr>\n",
       "  </tbody>\n",
       "</table>\n",
       "</div>"
      ],
      "text/plain": [
       "key3              1         2\n",
       "key1 key2                    \n",
       "a    one  -1.730417 -0.504637\n",
       "     two        NaN  1.347333\n",
       "b    one        NaN  0.696980\n",
       "     two  -1.218020       NaN"
      ]
     },
     "execution_count": 12,
     "metadata": {},
     "output_type": "execute_result"
    }
   ],
   "source": [
    "means.unstack()"
   ]
  },
  {
   "cell_type": "code",
   "execution_count": 13,
   "metadata": {},
   "outputs": [
    {
     "data": {
      "text/plain": [
       "California  2005    1.347333\n",
       "            2006    0.696980\n",
       "Ohio        2005   -1.474219\n",
       "            2006   -0.504637\n",
       "Name: data1, dtype: float64"
      ]
     },
     "execution_count": 13,
     "metadata": {},
     "output_type": "execute_result"
    }
   ],
   "source": [
    "#Let's work on another example\n",
    "states=np.array(['Ohio', 'California', 'California', 'Ohio', 'Ohio'])\n",
    "years=np.array([2005, 2005, 2006, 2005, 2006])\n",
    "\n",
    "df['data1'].groupby([states, years]).mean()"
   ]
  },
  {
   "cell_type": "code",
   "execution_count": 14,
   "metadata": {},
   "outputs": [
    {
     "data": {
      "text/html": [
       "<div>\n",
       "<style scoped>\n",
       "    .dataframe tbody tr th:only-of-type {\n",
       "        vertical-align: middle;\n",
       "    }\n",
       "\n",
       "    .dataframe tbody tr th {\n",
       "        vertical-align: top;\n",
       "    }\n",
       "\n",
       "    .dataframe thead th {\n",
       "        text-align: right;\n",
       "    }\n",
       "</style>\n",
       "<table border=\"1\" class=\"dataframe\">\n",
       "  <thead>\n",
       "    <tr style=\"text-align: right;\">\n",
       "      <th></th>\n",
       "      <th>key3</th>\n",
       "      <th>data1</th>\n",
       "      <th>data2</th>\n",
       "      <th>data3</th>\n",
       "    </tr>\n",
       "    <tr>\n",
       "      <th>key1</th>\n",
       "      <th></th>\n",
       "      <th></th>\n",
       "      <th></th>\n",
       "      <th></th>\n",
       "    </tr>\n",
       "  </thead>\n",
       "  <tbody>\n",
       "    <tr>\n",
       "      <th>a</th>\n",
       "      <td>1.666667</td>\n",
       "      <td>-0.295907</td>\n",
       "      <td>-0.088461</td>\n",
       "      <td>0.245525</td>\n",
       "    </tr>\n",
       "    <tr>\n",
       "      <th>b</th>\n",
       "      <td>1.500000</td>\n",
       "      <td>-0.260520</td>\n",
       "      <td>0.701396</td>\n",
       "      <td>1.840547</td>\n",
       "    </tr>\n",
       "  </tbody>\n",
       "</table>\n",
       "</div>"
      ],
      "text/plain": [
       "          key3     data1     data2     data3\n",
       "key1                                        \n",
       "a     1.666667 -0.295907 -0.088461  0.245525\n",
       "b     1.500000 -0.260520  0.701396  1.840547"
      ]
     },
     "execution_count": 14,
     "metadata": {},
     "output_type": "execute_result"
    }
   ],
   "source": [
    "df.groupby('key1').mean()"
   ]
  },
  {
   "cell_type": "code",
   "execution_count": 16,
   "metadata": {},
   "outputs": [
    {
     "data": {
      "text/html": [
       "<div>\n",
       "<style scoped>\n",
       "    .dataframe tbody tr th:only-of-type {\n",
       "        vertical-align: middle;\n",
       "    }\n",
       "\n",
       "    .dataframe tbody tr th {\n",
       "        vertical-align: top;\n",
       "    }\n",
       "\n",
       "    .dataframe thead th {\n",
       "        text-align: right;\n",
       "    }\n",
       "</style>\n",
       "<table border=\"1\" class=\"dataframe\">\n",
       "  <thead>\n",
       "    <tr style=\"text-align: right;\">\n",
       "      <th></th>\n",
       "      <th></th>\n",
       "      <th></th>\n",
       "      <th>data1</th>\n",
       "      <th>data2</th>\n",
       "      <th>data3</th>\n",
       "    </tr>\n",
       "    <tr>\n",
       "      <th>key1</th>\n",
       "      <th>key2</th>\n",
       "      <th>key3</th>\n",
       "      <th></th>\n",
       "      <th></th>\n",
       "      <th></th>\n",
       "    </tr>\n",
       "  </thead>\n",
       "  <tbody>\n",
       "    <tr>\n",
       "      <th rowspan=\"3\" valign=\"top\">a</th>\n",
       "      <th rowspan=\"2\" valign=\"top\">one</th>\n",
       "      <th>1</th>\n",
       "      <td>-1.730417</td>\n",
       "      <td>0.116359</td>\n",
       "      <td>-0.553355</td>\n",
       "    </tr>\n",
       "    <tr>\n",
       "      <th>2</th>\n",
       "      <td>-0.504637</td>\n",
       "      <td>-0.198924</td>\n",
       "      <td>1.232757</td>\n",
       "    </tr>\n",
       "    <tr>\n",
       "      <th>two</th>\n",
       "      <th>2</th>\n",
       "      <td>1.347333</td>\n",
       "      <td>-0.182817</td>\n",
       "      <td>0.057174</td>\n",
       "    </tr>\n",
       "    <tr>\n",
       "      <th rowspan=\"2\" valign=\"top\">b</th>\n",
       "      <th>one</th>\n",
       "      <th>2</th>\n",
       "      <td>0.696980</td>\n",
       "      <td>1.406488</td>\n",
       "      <td>1.425337</td>\n",
       "    </tr>\n",
       "    <tr>\n",
       "      <th>two</th>\n",
       "      <th>1</th>\n",
       "      <td>-1.218020</td>\n",
       "      <td>-0.003696</td>\n",
       "      <td>2.255758</td>\n",
       "    </tr>\n",
       "  </tbody>\n",
       "</table>\n",
       "</div>"
      ],
      "text/plain": [
       "                   data1     data2     data3\n",
       "key1 key2 key3                              \n",
       "a    one  1    -1.730417  0.116359 -0.553355\n",
       "          2    -0.504637 -0.198924  1.232757\n",
       "     two  2     1.347333 -0.182817  0.057174\n",
       "b    one  2     0.696980  1.406488  1.425337\n",
       "     two  1    -1.218020 -0.003696  2.255758"
      ]
     },
     "execution_count": 16,
     "metadata": {},
     "output_type": "execute_result"
    }
   ],
   "source": [
    "df.groupby(['key1', 'key2', 'key3']).mean()"
   ]
  },
  {
   "cell_type": "markdown",
   "metadata": {},
   "source": [
    "# # Iterating Over Groups"
   ]
  },
  {
   "cell_type": "code",
   "execution_count": 22,
   "metadata": {},
   "outputs": [
    {
     "name": "stdout",
     "output_type": "stream",
     "text": [
      "group: a\n",
      "\n",
      "group:   key1 key2  key3     data1     data2     data3\n",
      "0    a  one     1 -1.730417  0.116359 -0.553355\n",
      "1    a  two     2  1.347333 -0.182817  0.057174\n",
      "4    a  one     2 -0.504637 -0.198924  1.232757\n",
      "group: b\n",
      "\n",
      "group:   key1 key2  key3    data1     data2     data3\n",
      "2    b  one     2  0.69698  1.406488  1.425337\n",
      "3    b  two     1 -1.21802 -0.003696  2.255758\n"
     ]
    }
   ],
   "source": [
    "\n",
    "# The GroupBy object supports iteration, generating a sequence of 2-tuples containing\n",
    "#the group name along with the chunk of data.\n",
    "for name, group, in df.groupby('key1'):\n",
    "    print('group:', name)\n",
    "    print()\n",
    "    print('group:', group)"
   ]
  },
  {
   "cell_type": "code",
   "execution_count": 23,
   "metadata": {},
   "outputs": [
    {
     "name": "stdout",
     "output_type": "stream",
     "text": [
      "('a', 'one', 1)\n",
      "\n",
      "  key1 key2  key3     data1     data2     data3\n",
      "0    a  one     1 -1.730417  0.116359 -0.553355\n",
      "('a', 'one', 2)\n",
      "\n",
      "  key1 key2  key3     data1     data2     data3\n",
      "4    a  one     2 -0.504637 -0.198924  1.232757\n",
      "('a', 'two', 2)\n",
      "\n",
      "  key1 key2  key3     data1     data2     data3\n",
      "1    a  two     2  1.347333 -0.182817  0.057174\n",
      "('b', 'one', 2)\n",
      "\n",
      "  key1 key2  key3    data1     data2     data3\n",
      "2    b  one     2  0.69698  1.406488  1.425337\n",
      "('b', 'two', 1)\n",
      "\n",
      "  key1 key2  key3    data1     data2     data3\n",
      "3    b  two     1 -1.21802 -0.003696  2.255758\n"
     ]
    }
   ],
   "source": [
    "# in case of multiple keys, the first element in the tuple will be a tuple of key values\n",
    "for (k1, k2, k3), group in df.groupby(['key1', 'key2', 'key3']):\n",
    "    print((k1, k2, k3))\n",
    "    print()\n",
    "    print(group)"
   ]
  },
  {
   "cell_type": "code",
   "execution_count": 24,
   "metadata": {},
   "outputs": [
    {
     "name": "stdout",
     "output_type": "stream",
     "text": [
      "int64\n",
      "\n",
      "   key3\n",
      "0     1\n",
      "1     2\n",
      "2     2\n",
      "3     1\n",
      "4     2\n",
      "float64\n",
      "\n",
      "      data1     data2     data3\n",
      "0 -1.730417  0.116359 -0.553355\n",
      "1  1.347333 -0.182817  0.057174\n",
      "2  0.696980  1.406488  1.425337\n",
      "3 -1.218020 -0.003696  2.255758\n",
      "4 -0.504637 -0.198924  1.232757\n",
      "object\n",
      "\n",
      "  key1 key2\n",
      "0    a  one\n",
      "1    a  two\n",
      "2    b  one\n",
      "3    b  two\n",
      "4    a  one\n"
     ]
    }
   ],
   "source": [
    "# we can also groupby the data based on their dtype\n",
    "grouped=df.groupby(df.dtypes, axis=1)\n",
    "for dtype, group in grouped:\n",
    "    print(dtype)\n",
    "    print()\n",
    "    print(group)"
   ]
  },
  {
   "cell_type": "markdown",
   "metadata": {},
   "source": [
    "# Selecting a Column or Subset of Columns"
   ]
  },
  {
   "cell_type": "code",
   "execution_count": 27,
   "metadata": {},
   "outputs": [
    {
     "data": {
      "text/plain": [
       "<pandas.core.groupby.generic.SeriesGroupBy object at 0x7f9932bd0be0>"
      ]
     },
     "execution_count": 27,
     "metadata": {},
     "output_type": "execute_result"
    }
   ],
   "source": [
    "#especially for large datasets, it maybe desirable to aggregate only a few columns. for example:\n",
    "s_grouped=df.groupby(['key1', 'key2'])['data2']\n",
    "s_grouped"
   ]
  },
  {
   "cell_type": "code",
   "execution_count": 28,
   "metadata": {},
   "outputs": [
    {
     "data": {
      "text/plain": [
       "key1  key2\n",
       "a     one    -0.041282\n",
       "      two    -0.182817\n",
       "b     one     1.406488\n",
       "      two    -0.003696\n",
       "Name: data2, dtype: float64"
      ]
     },
     "execution_count": 28,
     "metadata": {},
     "output_type": "execute_result"
    }
   ],
   "source": [
    "s_grouped.mean()"
   ]
  },
  {
   "cell_type": "markdown",
   "metadata": {},
   "source": [
    "# Grouping with Dicts and Series"
   ]
  },
  {
   "cell_type": "code",
   "execution_count": 29,
   "metadata": {},
   "outputs": [
    {
     "data": {
      "text/html": [
       "<div>\n",
       "<style scoped>\n",
       "    .dataframe tbody tr th:only-of-type {\n",
       "        vertical-align: middle;\n",
       "    }\n",
       "\n",
       "    .dataframe tbody tr th {\n",
       "        vertical-align: top;\n",
       "    }\n",
       "\n",
       "    .dataframe thead th {\n",
       "        text-align: right;\n",
       "    }\n",
       "</style>\n",
       "<table border=\"1\" class=\"dataframe\">\n",
       "  <thead>\n",
       "    <tr style=\"text-align: right;\">\n",
       "      <th></th>\n",
       "      <th>a</th>\n",
       "      <th>b</th>\n",
       "      <th>c</th>\n",
       "      <th>d</th>\n",
       "      <th>e</th>\n",
       "    </tr>\n",
       "  </thead>\n",
       "  <tbody>\n",
       "    <tr>\n",
       "      <th>Joe</th>\n",
       "      <td>-0.621156</td>\n",
       "      <td>-1.056292</td>\n",
       "      <td>-0.384762</td>\n",
       "      <td>0.079134</td>\n",
       "      <td>-1.148095</td>\n",
       "    </tr>\n",
       "    <tr>\n",
       "      <th>Steve</th>\n",
       "      <td>-1.228201</td>\n",
       "      <td>-1.072177</td>\n",
       "      <td>-1.214872</td>\n",
       "      <td>0.811374</td>\n",
       "      <td>-1.109557</td>\n",
       "    </tr>\n",
       "    <tr>\n",
       "      <th>Wes</th>\n",
       "      <td>1.077780</td>\n",
       "      <td>NaN</td>\n",
       "      <td>NaN</td>\n",
       "      <td>-1.085668</td>\n",
       "      <td>1.068953</td>\n",
       "    </tr>\n",
       "    <tr>\n",
       "      <th>Jim</th>\n",
       "      <td>1.636542</td>\n",
       "      <td>0.176893</td>\n",
       "      <td>-0.027716</td>\n",
       "      <td>0.293731</td>\n",
       "      <td>0.456927</td>\n",
       "    </tr>\n",
       "    <tr>\n",
       "      <th>Travis</th>\n",
       "      <td>-0.373475</td>\n",
       "      <td>-1.009153</td>\n",
       "      <td>0.451314</td>\n",
       "      <td>-1.084408</td>\n",
       "      <td>-0.558276</td>\n",
       "    </tr>\n",
       "  </tbody>\n",
       "</table>\n",
       "</div>"
      ],
      "text/plain": [
       "               a         b         c         d         e\n",
       "Joe    -0.621156 -1.056292 -0.384762  0.079134 -1.148095\n",
       "Steve  -1.228201 -1.072177 -1.214872  0.811374 -1.109557\n",
       "Wes     1.077780       NaN       NaN -1.085668  1.068953\n",
       "Jim     1.636542  0.176893 -0.027716  0.293731  0.456927\n",
       "Travis -0.373475 -1.009153  0.451314 -1.084408 -0.558276"
      ]
     },
     "execution_count": 29,
     "metadata": {},
     "output_type": "execute_result"
    }
   ],
   "source": [
    "#Grouping information may exist in a form other than an array. Let's take another exmaple of dataframe:\n",
    "people=pd.DataFrame(np.random.randn(5, 5), \n",
    "                   columns=['a', 'b', 'c', 'd', 'e'], \n",
    "                   index=['Joe', 'Steve', 'Wes', 'Jim', 'Travis'])\n",
    "#let's add some NA values too\n",
    "people.iloc[2:3, [1, 2]]=np.nan\n",
    "\n",
    "people"
   ]
  },
  {
   "cell_type": "code",
   "execution_count": 30,
   "metadata": {},
   "outputs": [
    {
     "data": {
      "text/html": [
       "<div>\n",
       "<style scoped>\n",
       "    .dataframe tbody tr th:only-of-type {\n",
       "        vertical-align: middle;\n",
       "    }\n",
       "\n",
       "    .dataframe tbody tr th {\n",
       "        vertical-align: top;\n",
       "    }\n",
       "\n",
       "    .dataframe thead th {\n",
       "        text-align: right;\n",
       "    }\n",
       "</style>\n",
       "<table border=\"1\" class=\"dataframe\">\n",
       "  <thead>\n",
       "    <tr style=\"text-align: right;\">\n",
       "      <th></th>\n",
       "      <th>blue</th>\n",
       "      <th>red</th>\n",
       "    </tr>\n",
       "  </thead>\n",
       "  <tbody>\n",
       "    <tr>\n",
       "      <th>Joe</th>\n",
       "      <td>-0.305628</td>\n",
       "      <td>-2.825542</td>\n",
       "    </tr>\n",
       "    <tr>\n",
       "      <th>Steve</th>\n",
       "      <td>-0.403498</td>\n",
       "      <td>-3.409935</td>\n",
       "    </tr>\n",
       "    <tr>\n",
       "      <th>Wes</th>\n",
       "      <td>-1.085668</td>\n",
       "      <td>2.146733</td>\n",
       "    </tr>\n",
       "    <tr>\n",
       "      <th>Jim</th>\n",
       "      <td>0.266015</td>\n",
       "      <td>2.270362</td>\n",
       "    </tr>\n",
       "    <tr>\n",
       "      <th>Travis</th>\n",
       "      <td>-0.633093</td>\n",
       "      <td>-1.940904</td>\n",
       "    </tr>\n",
       "  </tbody>\n",
       "</table>\n",
       "</div>"
      ],
      "text/plain": [
       "            blue       red\n",
       "Joe    -0.305628 -2.825542\n",
       "Steve  -0.403498 -3.409935\n",
       "Wes    -1.085668  2.146733\n",
       "Jim     0.266015  2.270362\n",
       "Travis -0.633093 -1.940904"
      ]
     },
     "execution_count": 30,
     "metadata": {},
     "output_type": "execute_result"
    }
   ],
   "source": [
    "# Now, suppose I have a group correspondence for the columns and want to sum\n",
    "#together the columns by group:\n",
    "mapping={'a': 'red', 'b': 'red', 'c': 'blue', 'd': 'blue', 'e': 'red', 'f' : 'orange'}\n",
    "\n",
    "# Now, you could construct an array from this dict to pass to groupby, but instead we can just pass the dict.\n",
    "by_column=people.groupby(mapping, axis=1)\n",
    "by_column.sum()\n"
   ]
  },
  {
   "cell_type": "markdown",
   "metadata": {},
   "source": [
    "# Grouping with Functions"
   ]
  },
  {
   "cell_type": "code",
   "execution_count": 31,
   "metadata": {},
   "outputs": [
    {
     "data": {
      "text/html": [
       "<div>\n",
       "<style scoped>\n",
       "    .dataframe tbody tr th:only-of-type {\n",
       "        vertical-align: middle;\n",
       "    }\n",
       "\n",
       "    .dataframe tbody tr th {\n",
       "        vertical-align: top;\n",
       "    }\n",
       "\n",
       "    .dataframe thead th {\n",
       "        text-align: right;\n",
       "    }\n",
       "</style>\n",
       "<table border=\"1\" class=\"dataframe\">\n",
       "  <thead>\n",
       "    <tr style=\"text-align: right;\">\n",
       "      <th></th>\n",
       "      <th>a</th>\n",
       "      <th>b</th>\n",
       "      <th>c</th>\n",
       "      <th>d</th>\n",
       "      <th>e</th>\n",
       "    </tr>\n",
       "  </thead>\n",
       "  <tbody>\n",
       "    <tr>\n",
       "      <th>3</th>\n",
       "      <td>2.093166</td>\n",
       "      <td>-0.879399</td>\n",
       "      <td>-0.412478</td>\n",
       "      <td>-0.712803</td>\n",
       "      <td>0.377785</td>\n",
       "    </tr>\n",
       "    <tr>\n",
       "      <th>5</th>\n",
       "      <td>-1.228201</td>\n",
       "      <td>-1.072177</td>\n",
       "      <td>-1.214872</td>\n",
       "      <td>0.811374</td>\n",
       "      <td>-1.109557</td>\n",
       "    </tr>\n",
       "    <tr>\n",
       "      <th>6</th>\n",
       "      <td>-0.373475</td>\n",
       "      <td>-1.009153</td>\n",
       "      <td>0.451314</td>\n",
       "      <td>-1.084408</td>\n",
       "      <td>-0.558276</td>\n",
       "    </tr>\n",
       "  </tbody>\n",
       "</table>\n",
       "</div>"
      ],
      "text/plain": [
       "          a         b         c         d         e\n",
       "3  2.093166 -0.879399 -0.412478 -0.712803  0.377785\n",
       "5 -1.228201 -1.072177 -1.214872  0.811374 -1.109557\n",
       "6 -0.373475 -1.009153  0.451314 -1.084408 -0.558276"
      ]
     },
     "execution_count": 31,
     "metadata": {},
     "output_type": "execute_result"
    }
   ],
   "source": [
    "# Let's group by the length of the names this time\n",
    "people.groupby(len).sum()"
   ]
  },
  {
   "cell_type": "markdown",
   "metadata": {},
   "source": [
    "# Grouping by Index Levels"
   ]
  },
  {
   "cell_type": "code",
   "execution_count": 34,
   "metadata": {},
   "outputs": [
    {
     "data": {
      "text/html": [
       "<div>\n",
       "<style scoped>\n",
       "    .dataframe tbody tr th:only-of-type {\n",
       "        vertical-align: middle;\n",
       "    }\n",
       "\n",
       "    .dataframe tbody tr th {\n",
       "        vertical-align: top;\n",
       "    }\n",
       "\n",
       "    .dataframe thead tr th {\n",
       "        text-align: left;\n",
       "    }\n",
       "</style>\n",
       "<table border=\"1\" class=\"dataframe\">\n",
       "  <thead>\n",
       "    <tr>\n",
       "      <th>cty</th>\n",
       "      <th colspan=\"3\" halign=\"left\">US</th>\n",
       "      <th colspan=\"2\" halign=\"left\">JP</th>\n",
       "    </tr>\n",
       "    <tr>\n",
       "      <th>tenor</th>\n",
       "      <th>1</th>\n",
       "      <th>3</th>\n",
       "      <th>5</th>\n",
       "      <th>1</th>\n",
       "      <th>3</th>\n",
       "    </tr>\n",
       "  </thead>\n",
       "  <tbody>\n",
       "    <tr>\n",
       "      <th>0</th>\n",
       "      <td>-0.595646</td>\n",
       "      <td>-0.690630</td>\n",
       "      <td>-0.429561</td>\n",
       "      <td>-0.209826</td>\n",
       "      <td>0.448144</td>\n",
       "    </tr>\n",
       "    <tr>\n",
       "      <th>1</th>\n",
       "      <td>1.974914</td>\n",
       "      <td>-0.975420</td>\n",
       "      <td>1.180194</td>\n",
       "      <td>1.814733</td>\n",
       "      <td>0.427766</td>\n",
       "    </tr>\n",
       "    <tr>\n",
       "      <th>2</th>\n",
       "      <td>0.562899</td>\n",
       "      <td>0.431591</td>\n",
       "      <td>-0.416148</td>\n",
       "      <td>-0.815889</td>\n",
       "      <td>-0.871456</td>\n",
       "    </tr>\n",
       "    <tr>\n",
       "      <th>3</th>\n",
       "      <td>-2.114641</td>\n",
       "      <td>-0.477158</td>\n",
       "      <td>-0.645794</td>\n",
       "      <td>0.432498</td>\n",
       "      <td>0.702931</td>\n",
       "    </tr>\n",
       "  </tbody>\n",
       "</table>\n",
       "</div>"
      ],
      "text/plain": [
       "cty          US                            JP          \n",
       "tenor         1         3         5         1         3\n",
       "0     -0.595646 -0.690630 -0.429561 -0.209826  0.448144\n",
       "1      1.974914 -0.975420  1.180194  1.814733  0.427766\n",
       "2      0.562899  0.431591 -0.416148 -0.815889 -0.871456\n",
       "3     -2.114641 -0.477158 -0.645794  0.432498  0.702931"
      ]
     },
     "execution_count": 34,
     "metadata": {},
     "output_type": "execute_result"
    }
   ],
   "source": [
    "# A final convenience for hierarchically indexed datasets is the ability to aggregate\n",
    "#using one of the levels of an axis index. Let’s look at an example:\n",
    "columns=pd.MultiIndex.from_arrays([['US', 'US', 'US', 'JP', 'JP'], \n",
    "                                 [1, 3, 5, 1, 3]],\n",
    "                                 names=['cty', 'tenor'])\n",
    "hier_df=pd.DataFrame(np.random.randn(4, 5), columns=columns)\n",
    "hier_df"
   ]
  },
  {
   "cell_type": "code",
   "execution_count": 35,
   "metadata": {},
   "outputs": [
    {
     "data": {
      "text/html": [
       "<div>\n",
       "<style scoped>\n",
       "    .dataframe tbody tr th:only-of-type {\n",
       "        vertical-align: middle;\n",
       "    }\n",
       "\n",
       "    .dataframe tbody tr th {\n",
       "        vertical-align: top;\n",
       "    }\n",
       "\n",
       "    .dataframe thead th {\n",
       "        text-align: right;\n",
       "    }\n",
       "</style>\n",
       "<table border=\"1\" class=\"dataframe\">\n",
       "  <thead>\n",
       "    <tr style=\"text-align: right;\">\n",
       "      <th>cty</th>\n",
       "      <th>JP</th>\n",
       "      <th>US</th>\n",
       "    </tr>\n",
       "  </thead>\n",
       "  <tbody>\n",
       "    <tr>\n",
       "      <th>0</th>\n",
       "      <td>2</td>\n",
       "      <td>3</td>\n",
       "    </tr>\n",
       "    <tr>\n",
       "      <th>1</th>\n",
       "      <td>2</td>\n",
       "      <td>3</td>\n",
       "    </tr>\n",
       "    <tr>\n",
       "      <th>2</th>\n",
       "      <td>2</td>\n",
       "      <td>3</td>\n",
       "    </tr>\n",
       "    <tr>\n",
       "      <th>3</th>\n",
       "      <td>2</td>\n",
       "      <td>3</td>\n",
       "    </tr>\n",
       "  </tbody>\n",
       "</table>\n",
       "</div>"
      ],
      "text/plain": [
       "cty  JP  US\n",
       "0     2   3\n",
       "1     2   3\n",
       "2     2   3\n",
       "3     2   3"
      ]
     },
     "execution_count": 35,
     "metadata": {},
     "output_type": "execute_result"
    }
   ],
   "source": [
    "# to group by leve, just pass the level number or name using the level keyword:\n",
    "hier_df.groupby(level='cty', axis=1).count()"
   ]
  },
  {
   "cell_type": "markdown",
   "metadata": {},
   "source": [
    "# Data Aggregation"
   ]
  },
  {
   "cell_type": "code",
   "execution_count": 36,
   "metadata": {},
   "outputs": [
    {
     "data": {
      "text/html": [
       "<div>\n",
       "<style scoped>\n",
       "    .dataframe tbody tr th:only-of-type {\n",
       "        vertical-align: middle;\n",
       "    }\n",
       "\n",
       "    .dataframe tbody tr th {\n",
       "        vertical-align: top;\n",
       "    }\n",
       "\n",
       "    .dataframe thead th {\n",
       "        text-align: right;\n",
       "    }\n",
       "</style>\n",
       "<table border=\"1\" class=\"dataframe\">\n",
       "  <thead>\n",
       "    <tr style=\"text-align: right;\">\n",
       "      <th></th>\n",
       "      <th>key1</th>\n",
       "      <th>key2</th>\n",
       "      <th>key3</th>\n",
       "      <th>data1</th>\n",
       "      <th>data2</th>\n",
       "      <th>data3</th>\n",
       "    </tr>\n",
       "  </thead>\n",
       "  <tbody>\n",
       "    <tr>\n",
       "      <th>0</th>\n",
       "      <td>a</td>\n",
       "      <td>one</td>\n",
       "      <td>1</td>\n",
       "      <td>-1.730417</td>\n",
       "      <td>0.116359</td>\n",
       "      <td>-0.553355</td>\n",
       "    </tr>\n",
       "    <tr>\n",
       "      <th>1</th>\n",
       "      <td>a</td>\n",
       "      <td>two</td>\n",
       "      <td>2</td>\n",
       "      <td>1.347333</td>\n",
       "      <td>-0.182817</td>\n",
       "      <td>0.057174</td>\n",
       "    </tr>\n",
       "    <tr>\n",
       "      <th>2</th>\n",
       "      <td>b</td>\n",
       "      <td>one</td>\n",
       "      <td>2</td>\n",
       "      <td>0.696980</td>\n",
       "      <td>1.406488</td>\n",
       "      <td>1.425337</td>\n",
       "    </tr>\n",
       "    <tr>\n",
       "      <th>3</th>\n",
       "      <td>b</td>\n",
       "      <td>two</td>\n",
       "      <td>1</td>\n",
       "      <td>-1.218020</td>\n",
       "      <td>-0.003696</td>\n",
       "      <td>2.255758</td>\n",
       "    </tr>\n",
       "    <tr>\n",
       "      <th>4</th>\n",
       "      <td>a</td>\n",
       "      <td>one</td>\n",
       "      <td>2</td>\n",
       "      <td>-0.504637</td>\n",
       "      <td>-0.198924</td>\n",
       "      <td>1.232757</td>\n",
       "    </tr>\n",
       "  </tbody>\n",
       "</table>\n",
       "</div>"
      ],
      "text/plain": [
       "  key1 key2  key3     data1     data2     data3\n",
       "0    a  one     1 -1.730417  0.116359 -0.553355\n",
       "1    a  two     2  1.347333 -0.182817  0.057174\n",
       "2    b  one     2  0.696980  1.406488  1.425337\n",
       "3    b  two     1 -1.218020 -0.003696  2.255758\n",
       "4    a  one     2 -0.504637 -0.198924  1.232757"
      ]
     },
     "execution_count": 36,
     "metadata": {},
     "output_type": "execute_result"
    }
   ],
   "source": [
    "df.head()"
   ]
  },
  {
   "cell_type": "code",
   "execution_count": 37,
   "metadata": {},
   "outputs": [
    {
     "data": {
      "text/plain": [
       "<pandas.core.groupby.generic.DataFrameGroupBy object at 0x7f9932de3ee0>"
      ]
     },
     "execution_count": 37,
     "metadata": {},
     "output_type": "execute_result"
    }
   ],
   "source": [
    "grouped=df.groupby('key1')\n",
    "grouped"
   ]
  },
  {
   "cell_type": "code",
   "execution_count": 38,
   "metadata": {},
   "outputs": [
    {
     "data": {
      "text/plain": [
       "key1\n",
       "a    0.976939\n",
       "b    0.505480\n",
       "Name: data1, dtype: float64"
      ]
     },
     "execution_count": 38,
     "metadata": {},
     "output_type": "execute_result"
    }
   ],
   "source": [
    "grouped['data1'].quantile(0.9)"
   ]
  },
  {
   "cell_type": "code",
   "execution_count": 39,
   "metadata": {},
   "outputs": [
    {
     "data": {
      "text/html": [
       "<div>\n",
       "<style scoped>\n",
       "    .dataframe tbody tr th:only-of-type {\n",
       "        vertical-align: middle;\n",
       "    }\n",
       "\n",
       "    .dataframe tbody tr th {\n",
       "        vertical-align: top;\n",
       "    }\n",
       "\n",
       "    .dataframe thead th {\n",
       "        text-align: right;\n",
       "    }\n",
       "</style>\n",
       "<table border=\"1\" class=\"dataframe\">\n",
       "  <thead>\n",
       "    <tr style=\"text-align: right;\">\n",
       "      <th></th>\n",
       "      <th>key3</th>\n",
       "      <th>data1</th>\n",
       "      <th>data2</th>\n",
       "      <th>data3</th>\n",
       "    </tr>\n",
       "    <tr>\n",
       "      <th>key1</th>\n",
       "      <th></th>\n",
       "      <th></th>\n",
       "      <th></th>\n",
       "      <th></th>\n",
       "    </tr>\n",
       "  </thead>\n",
       "  <tbody>\n",
       "    <tr>\n",
       "      <th>a</th>\n",
       "      <td>1</td>\n",
       "      <td>3.07775</td>\n",
       "      <td>0.315282</td>\n",
       "      <td>1.786112</td>\n",
       "    </tr>\n",
       "    <tr>\n",
       "      <th>b</th>\n",
       "      <td>1</td>\n",
       "      <td>1.91500</td>\n",
       "      <td>1.410185</td>\n",
       "      <td>0.830421</td>\n",
       "    </tr>\n",
       "  </tbody>\n",
       "</table>\n",
       "</div>"
      ],
      "text/plain": [
       "      key3    data1     data2     data3\n",
       "key1                                   \n",
       "a        1  3.07775  0.315282  1.786112\n",
       "b        1  1.91500  1.410185  0.830421"
      ]
     },
     "execution_count": 39,
     "metadata": {},
     "output_type": "execute_result"
    }
   ],
   "source": [
    "#agg method\n",
    "def peak_to_peak(arr):\n",
    "    return arr.max() - arr.min()\n",
    "\n",
    "grouped.agg(peak_to_peak)"
   ]
  },
  {
   "cell_type": "code",
   "execution_count": 40,
   "metadata": {},
   "outputs": [
    {
     "data": {
      "text/html": [
       "<div>\n",
       "<style scoped>\n",
       "    .dataframe tbody tr th:only-of-type {\n",
       "        vertical-align: middle;\n",
       "    }\n",
       "\n",
       "    .dataframe tbody tr th {\n",
       "        vertical-align: top;\n",
       "    }\n",
       "\n",
       "    .dataframe thead tr th {\n",
       "        text-align: left;\n",
       "    }\n",
       "\n",
       "    .dataframe thead tr:last-of-type th {\n",
       "        text-align: right;\n",
       "    }\n",
       "</style>\n",
       "<table border=\"1\" class=\"dataframe\">\n",
       "  <thead>\n",
       "    <tr>\n",
       "      <th></th>\n",
       "      <th colspan=\"8\" halign=\"left\">key3</th>\n",
       "      <th colspan=\"2\" halign=\"left\">data1</th>\n",
       "      <th>...</th>\n",
       "      <th colspan=\"2\" halign=\"left\">data2</th>\n",
       "      <th colspan=\"8\" halign=\"left\">data3</th>\n",
       "    </tr>\n",
       "    <tr>\n",
       "      <th></th>\n",
       "      <th>count</th>\n",
       "      <th>mean</th>\n",
       "      <th>std</th>\n",
       "      <th>min</th>\n",
       "      <th>25%</th>\n",
       "      <th>50%</th>\n",
       "      <th>75%</th>\n",
       "      <th>max</th>\n",
       "      <th>count</th>\n",
       "      <th>mean</th>\n",
       "      <th>...</th>\n",
       "      <th>75%</th>\n",
       "      <th>max</th>\n",
       "      <th>count</th>\n",
       "      <th>mean</th>\n",
       "      <th>std</th>\n",
       "      <th>min</th>\n",
       "      <th>25%</th>\n",
       "      <th>50%</th>\n",
       "      <th>75%</th>\n",
       "      <th>max</th>\n",
       "    </tr>\n",
       "    <tr>\n",
       "      <th>key1</th>\n",
       "      <th></th>\n",
       "      <th></th>\n",
       "      <th></th>\n",
       "      <th></th>\n",
       "      <th></th>\n",
       "      <th></th>\n",
       "      <th></th>\n",
       "      <th></th>\n",
       "      <th></th>\n",
       "      <th></th>\n",
       "      <th></th>\n",
       "      <th></th>\n",
       "      <th></th>\n",
       "      <th></th>\n",
       "      <th></th>\n",
       "      <th></th>\n",
       "      <th></th>\n",
       "      <th></th>\n",
       "      <th></th>\n",
       "      <th></th>\n",
       "      <th></th>\n",
       "    </tr>\n",
       "  </thead>\n",
       "  <tbody>\n",
       "    <tr>\n",
       "      <th>a</th>\n",
       "      <td>3.0</td>\n",
       "      <td>1.666667</td>\n",
       "      <td>0.577350</td>\n",
       "      <td>1.0</td>\n",
       "      <td>1.50</td>\n",
       "      <td>2.0</td>\n",
       "      <td>2.00</td>\n",
       "      <td>2.0</td>\n",
       "      <td>3.0</td>\n",
       "      <td>-0.295907</td>\n",
       "      <td>...</td>\n",
       "      <td>-0.033229</td>\n",
       "      <td>0.116359</td>\n",
       "      <td>3.0</td>\n",
       "      <td>0.245525</td>\n",
       "      <td>0.907830</td>\n",
       "      <td>-0.553355</td>\n",
       "      <td>-0.248090</td>\n",
       "      <td>0.057174</td>\n",
       "      <td>0.644966</td>\n",
       "      <td>1.232757</td>\n",
       "    </tr>\n",
       "    <tr>\n",
       "      <th>b</th>\n",
       "      <td>2.0</td>\n",
       "      <td>1.500000</td>\n",
       "      <td>0.707107</td>\n",
       "      <td>1.0</td>\n",
       "      <td>1.25</td>\n",
       "      <td>1.5</td>\n",
       "      <td>1.75</td>\n",
       "      <td>2.0</td>\n",
       "      <td>2.0</td>\n",
       "      <td>-0.260520</td>\n",
       "      <td>...</td>\n",
       "      <td>1.053942</td>\n",
       "      <td>1.406488</td>\n",
       "      <td>2.0</td>\n",
       "      <td>1.840547</td>\n",
       "      <td>0.587196</td>\n",
       "      <td>1.425337</td>\n",
       "      <td>1.632942</td>\n",
       "      <td>1.840547</td>\n",
       "      <td>2.048153</td>\n",
       "      <td>2.255758</td>\n",
       "    </tr>\n",
       "  </tbody>\n",
       "</table>\n",
       "<p>2 rows × 32 columns</p>\n",
       "</div>"
      ],
      "text/plain": [
       "      key3                                                data1            \\\n",
       "     count      mean       std  min   25%  50%   75%  max count      mean   \n",
       "key1                                                                        \n",
       "a      3.0  1.666667  0.577350  1.0  1.50  2.0  2.00  2.0   3.0 -0.295907   \n",
       "b      2.0  1.500000  0.707107  1.0  1.25  1.5  1.75  2.0   2.0 -0.260520   \n",
       "\n",
       "      ...     data2           data3                                          \\\n",
       "      ...       75%       max count      mean       std       min       25%   \n",
       "key1  ...                                                                     \n",
       "a     ... -0.033229  0.116359   3.0  0.245525  0.907830 -0.553355 -0.248090   \n",
       "b     ...  1.053942  1.406488   2.0  1.840547  0.587196  1.425337  1.632942   \n",
       "\n",
       "                                    \n",
       "           50%       75%       max  \n",
       "key1                                \n",
       "a     0.057174  0.644966  1.232757  \n",
       "b     1.840547  2.048153  2.255758  \n",
       "\n",
       "[2 rows x 32 columns]"
      ]
     },
     "execution_count": 40,
     "metadata": {},
     "output_type": "execute_result"
    }
   ],
   "source": [
    "#You may notice that some methods like describe also work, even though they are not\n",
    "#aggregations, strictly speaking:\n",
    "grouped.describe()"
   ]
  },
  {
   "cell_type": "code",
   "execution_count": null,
   "metadata": {},
   "outputs": [],
   "source": [
    "#pg 298"
   ]
  }
 ],
 "metadata": {
  "kernelspec": {
   "display_name": "Python 3",
   "language": "python",
   "name": "python3"
  },
  "language_info": {
   "codemirror_mode": {
    "name": "ipython",
    "version": 3
   },
   "file_extension": ".py",
   "mimetype": "text/x-python",
   "name": "python",
   "nbconvert_exporter": "python",
   "pygments_lexer": "ipython3",
   "version": "3.8.5"
  }
 },
 "nbformat": 4,
 "nbformat_minor": 4
}
